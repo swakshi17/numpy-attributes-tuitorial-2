{
 "cells": [
  {
   "cell_type": "code",
   "execution_count": 3,
   "id": "f535a5cf-45ed-4abb-95c9-70977950201f",
   "metadata": {},
   "outputs": [
    {
     "name": "stdout",
     "output_type": "stream",
     "text": [
      "3D Array:\n",
      "[[[ 1  2  3]\n",
      "  [ 4  5  6]\n",
      "  [ 7  8  9]]\n",
      "\n",
      " [[10 11 12]\n",
      "  [13 14 15]\n",
      "  [16 17 18]]\n",
      "\n",
      " [[19 20 21]\n",
      "  [22 23 24]\n",
      "  [25 26 27]]]\n"
     ]
    }
   ],
   "source": [
    "import numpy as np\n",
    "import numpy as np\n",
    "array = np.array([[[1, 2, 3], \n",
    "                      [4, 5, 6], \n",
    "                      [7, 8, 9]],\n",
    "\n",
    "                     [[10, 11, 12], \n",
    "                      [13, 14, 15], \n",
    "                      [16, 17, 18]],\n",
    "\n",
    "                     [[19, 20, 21], \n",
    "                      [22, 23, 24], \n",
    "                      [25, 26, 27]]])\n",
    "\n",
    "print(\"3D Array:\")\n",
    "print(array)\n",
    "     "
   ]
  },
  {
   "cell_type": "code",
   "execution_count": 13,
   "id": "d3d11563-57d7-4d0f-9148-98e33bb5f60e",
   "metadata": {},
   "outputs": [
    {
     "name": "stdout",
     "output_type": "stream",
     "text": [
      "(1, 3, 3)\n"
     ]
    },
    {
     "ename": "NameError",
     "evalue": "name 'ndarray' is not defined",
     "output_type": "error",
     "traceback": [
      "\u001b[1;31m---------------------------------------------------------------------------\u001b[0m",
      "\u001b[1;31mNameError\u001b[0m                                 Traceback (most recent call last)",
      "Cell \u001b[1;32mIn[13], line 6\u001b[0m\n\u001b[0;32m      2\u001b[0m array\u001b[38;5;241m=\u001b[39m np\u001b[38;5;241m.\u001b[39marray([[[\u001b[38;5;241m1\u001b[39m, \u001b[38;5;241m2\u001b[39m, \u001b[38;5;241m3\u001b[39m], \n\u001b[0;32m      3\u001b[0m                       [\u001b[38;5;241m4\u001b[39m, \u001b[38;5;241m5\u001b[39m, \u001b[38;5;241m6\u001b[39m], \n\u001b[0;32m      4\u001b[0m                       [\u001b[38;5;241m7\u001b[39m, \u001b[38;5;241m8\u001b[39m, \u001b[38;5;241m9\u001b[39m]]])\n\u001b[0;32m      5\u001b[0m \u001b[38;5;28mprint\u001b[39m(array\u001b[38;5;241m.\u001b[39mshape)\n\u001b[1;32m----> 6\u001b[0m \u001b[38;5;28mprint\u001b[39m(ndarray\u001b[38;5;241m.\u001b[39mflags)\n",
      "\u001b[1;31mNameError\u001b[0m: name 'ndarray' is not defined"
     ]
    }
   ],
   "source": [
    "import numpy as np\n",
    "array= np.array([[[1, 2, 3], \n",
    "                      [4, 5, 6], \n",
    "                      [7, 8, 9]]])\n",
    "print(array.shape)\n",
    "print(ndarray.flags)\n"
   ]
  },
  {
   "cell_type": "code",
   "execution_count": 15,
   "id": "ce495943-24fd-46df-8cb7-a4a8f99f229a",
   "metadata": {},
   "outputs": [
    {
     "ename": "SyntaxError",
     "evalue": "unmatched ')' (632598897.py, line 2)",
     "output_type": "error",
     "traceback": [
      "\u001b[1;36m  Cell \u001b[1;32mIn[15], line 2\u001b[1;36m\u001b[0m\n\u001b[1;33m    A= np.ndarray( shape=2,2) , dtype=float)\u001b[0m\n\u001b[1;37m                                           ^\u001b[0m\n\u001b[1;31mSyntaxError\u001b[0m\u001b[1;31m:\u001b[0m unmatched ')'\n"
     ]
    }
   ],
   "source": [
    "import numpy as np\n",
    "A= np.ndarray( shape=2,2) , dtype=float)\n",
    "print(\"array:\", A)\n",
    "print ( ndarray.flags)"
   ]
  },
  {
   "cell_type": "code",
   "execution_count": 26,
   "id": "017c1642-e7c1-4566-b438-39b59332413f",
   "metadata": {},
   "outputs": [],
   "source": [
    "import numpy as np\n",
    "array= np.array([[1, 2, 3], [4, 5, 6]])\n",
    "\n"
   ]
  },
  {
   "cell_type": "code",
   "execution_count": 52,
   "id": "7afbe14f-e1fa-4c3a-8c8e-37f8ff0b79bb",
   "metadata": {},
   "outputs": [
    {
     "name": "stdout",
     "output_type": "stream",
     "text": [
      "[[1 2 3]\n",
      " [4 5 6]]\n",
      "(2, 3)\n",
      "6\n",
      "2\n",
      "None\n",
      "(12, 4)\n",
      "24\n",
      "[[1 2 3]\n",
      " [4 5 6]]\n",
      "[[0 0 0]\n",
      " [0 0 0]]\n",
      "4\n",
      "  C_CONTIGUOUS : True\n",
      "  F_CONTIGUOUS : False\n",
      "  OWNDATA : True\n",
      "  WRITEABLE : True\n",
      "  ALIGNED : True\n",
      "  WRITEBACKIFCOPY : False\n",
      "\n",
      "[[1 4]\n",
      " [2 5]\n",
      " [3 6]]\n",
      "<memory at 0x000001DFC33FD2F0>\n"
     ]
    }
   ],
   "source": [
    "import numpy as np\n",
    "arr1= np.array([[1, 2, 3], [4, 5, 6]])\n",
    "print(arr1)\n",
    "print(arr1.shape)\n",
    "print(arr1.size)\n",
    "print(arr1.ndim)\n",
    "print(arr1.base)\n",
    "print(arr1.strides)\n",
    "print(arr1.nbytes)\n",
    "print(arr1.real)\n",
    "print(arr1.imag)\n",
    "print(arr1.itemsize)\n",
    "print(arr1.flags)\n",
    "print(arr1.T)\n",
    "print(arr1.data)"
   ]
  },
  {
   "cell_type": "code",
   "execution_count": null,
   "id": "87310ae2-92c9-45f9-ba0e-b30428393142",
   "metadata": {},
   "outputs": [],
   "source": []
  },
  {
   "cell_type": "code",
   "execution_count": null,
   "id": "15fe729d-597c-464c-bb6d-d0bcee57db33",
   "metadata": {},
   "outputs": [],
   "source": []
  }
 ],
 "metadata": {
  "kernelspec": {
   "display_name": "Python 3 (ipykernel)",
   "language": "python",
   "name": "python3"
  },
  "language_info": {
   "codemirror_mode": {
    "name": "ipython",
    "version": 3
   },
   "file_extension": ".py",
   "mimetype": "text/x-python",
   "name": "python",
   "nbconvert_exporter": "python",
   "pygments_lexer": "ipython3",
   "version": "3.12.4"
  }
 },
 "nbformat": 4,
 "nbformat_minor": 5
}
